{
 "cells": [
  {
   "cell_type": "code",
   "execution_count": null,
   "metadata": {},
   "outputs": [
    {
     "name": "stdout",
     "output_type": "stream",
     "text": [
      "✅ Extraction completed. File saved as '2. advisor_reports_summary.xlsx'\n"
     ]
    }
   ],
   "source": [
    "import os\n",
    "import fitz  # PyMuPDF\n",
    "import pandas as pd\n",
    "import re\n",
    "\n",
    "# Set the path to the PDF folder (update this to your actual path)\n",
    "pdf_folder = \"/Users/mfr/Library/CloudStorage/Dropbox/Robyn/Python_Projects/Finance_environment/ETFDB Advisor Report\"\n",
    "\n",
    "# Create a list to store results\n",
    "data = []\n",
    "\n",
    "# Iterate through all PDF files in the folder\n",
    "for filename in os.listdir(pdf_folder):\n",
    "    if filename.endswith(\".pdf\"):\n",
    "        file_path = os.path.join(pdf_folder, filename)\n",
    "\n",
    "        # Extract ticker symbol (assuming filename is like \"ARKK advisor report.pdf\")\n",
    "        ticker = filename.split()[0]\n",
    "\n",
    "        # Open the PDF and extract text from a specific region\n",
    "        try:\n",
    "            doc = fitz.open(file_path)\n",
    "            page = doc[0]  # Only read the first page\n",
    "            rect = fitz.Rect(36.0, 159.0, 269.3, 521.9)\n",
    "            text = page.get_textbox(rect)\n",
    "\n",
    "            # Clean up newlines and extra spaces\n",
    "            clean_text = text.replace(\"\\n\", \" \").strip()\n",
    "            clean_text = re.sub(r\"\\s+\", \" \", clean_text)\n",
    "\n",
    "            data.append({\n",
    "                \"Ticker\": ticker,\n",
    "                \"Extracted Text\": clean_text\n",
    "            })\n",
    "        except Exception as e:\n",
    "            print(f\"⚠️ Failed to process {filename}: {e}\")\n",
    "\n",
    "# Convert to DataFrame and save to Excel\n",
    "df = pd.DataFrame(data)\n",
    "df.to_excel(\"2.1 advisor_reports_summary.xlsx\", index=False)\n",
    "\n",
    "print(\"✅ Extraction completed. File saved as '2.1 advisor_reports_summary.xlsx'\")\n"
   ]
  }
 ],
 "metadata": {
  "kernelspec": {
   "display_name": "finance_venv",
   "language": "python",
   "name": "python3"
  },
  "language_info": {
   "codemirror_mode": {
    "name": "ipython",
    "version": 3
   },
   "file_extension": ".py",
   "mimetype": "text/x-python",
   "name": "python",
   "nbconvert_exporter": "python",
   "pygments_lexer": "ipython3",
   "version": "3.11.5"
  }
 },
 "nbformat": 4,
 "nbformat_minor": 2
}

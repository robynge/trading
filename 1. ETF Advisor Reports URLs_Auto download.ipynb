{
 "cells": [
  {
   "cell_type": "code",
   "execution_count": null,
   "metadata": {},
   "outputs": [
    {
     "name": "stdout",
     "output_type": "stream",
     "text": [
      "\n",
      "🎯 Total ETFs to process: 1620\n",
      "\n",
      "\n",
      "🚀 Opening batch 1 (20 URLs)\n"
     ]
    },
    {
     "name": "stderr",
     "output_type": "stream",
     "text": [
      "Batch 1:   5%|▌         | 1/20 [00:00<00:12,  1.58URL/s]"
     ]
    },
    {
     "name": "stdout",
     "output_type": "stream",
     "text": [
      "✅ [1/1620] Opened: https://etfdb.com/advisor_reports/ARKK/\n"
     ]
    },
    {
     "name": "stderr",
     "output_type": "stream",
     "text": [
      "Batch 1:  10%|█         | 2/20 [00:01<00:10,  1.66URL/s]"
     ]
    },
    {
     "name": "stdout",
     "output_type": "stream",
     "text": [
      "✅ [2/1620] Opened: https://etfdb.com/advisor_reports/JPST/\n"
     ]
    },
    {
     "name": "stderr",
     "output_type": "stream",
     "text": [
      "Batch 1:  15%|█▌        | 3/20 [00:01<00:10,  1.64URL/s]"
     ]
    },
    {
     "name": "stdout",
     "output_type": "stream",
     "text": [
      "✅ [3/1620] Opened: https://etfdb.com/advisor_reports/DFAC/\n"
     ]
    },
    {
     "name": "stderr",
     "output_type": "stream",
     "text": [
      "Batch 1:  20%|██        | 4/20 [00:02<00:09,  1.77URL/s]"
     ]
    },
    {
     "name": "stdout",
     "output_type": "stream",
     "text": [
      "✅ [4/1620] Opened: https://etfdb.com/advisor_reports/MINT/\n"
     ]
    },
    {
     "name": "stderr",
     "output_type": "stream",
     "text": [
      "Batch 1:  25%|██▌       | 5/20 [00:02<00:08,  1.85URL/s]"
     ]
    },
    {
     "name": "stdout",
     "output_type": "stream",
     "text": [
      "✅ [5/1620] Opened: https://etfdb.com/advisor_reports/SRLN/\n"
     ]
    },
    {
     "name": "stderr",
     "output_type": "stream",
     "text": [
      "Batch 1:  30%|███       | 6/20 [00:03<00:07,  1.89URL/s]"
     ]
    },
    {
     "name": "stdout",
     "output_type": "stream",
     "text": [
      "✅ [6/1620] Opened: https://etfdb.com/advisor_reports/FPE/\n"
     ]
    },
    {
     "name": "stderr",
     "output_type": "stream",
     "text": [
      "Batch 1:  35%|███▌      | 7/20 [00:03<00:06,  1.90URL/s]"
     ]
    },
    {
     "name": "stdout",
     "output_type": "stream",
     "text": [
      "✅ [7/1620] Opened: https://etfdb.com/advisor_reports/ARKG/\n"
     ]
    },
    {
     "name": "stderr",
     "output_type": "stream",
     "text": [
      "Batch 1:  40%|████      | 8/20 [00:04<00:06,  1.91URL/s]"
     ]
    },
    {
     "name": "stdout",
     "output_type": "stream",
     "text": [
      "✅ [8/1620] Opened: https://etfdb.com/advisor_reports/PDBC/\n"
     ]
    },
    {
     "name": "stderr",
     "output_type": "stream",
     "text": [
      "Batch 1:  45%|████▌     | 9/20 [00:04<00:05,  1.91URL/s]"
     ]
    },
    {
     "name": "stdout",
     "output_type": "stream",
     "text": [
      "✅ [9/1620] Opened: https://etfdb.com/advisor_reports/DFAT/\n"
     ]
    },
    {
     "name": "stderr",
     "output_type": "stream",
     "text": [
      "Batch 1:  50%|█████     | 10/20 [00:05<00:05,  1.85URL/s]"
     ]
    },
    {
     "name": "stdout",
     "output_type": "stream",
     "text": [
      "✅ [10/1620] Opened: https://etfdb.com/advisor_reports/LMBS/\n"
     ]
    },
    {
     "name": "stderr",
     "output_type": "stream",
     "text": [
      "Batch 1:  55%|█████▌    | 11/20 [00:06<00:05,  1.72URL/s]"
     ]
    },
    {
     "name": "stdout",
     "output_type": "stream",
     "text": [
      "✅ [11/1620] Opened: https://etfdb.com/advisor_reports/DFUS/\n"
     ]
    },
    {
     "name": "stderr",
     "output_type": "stream",
     "text": [
      "Batch 1:  60%|██████    | 12/20 [00:06<00:04,  1.73URL/s]"
     ]
    },
    {
     "name": "stdout",
     "output_type": "stream",
     "text": [
      "✅ [12/1620] Opened: https://etfdb.com/advisor_reports/ICSH/\n"
     ]
    },
    {
     "name": "stderr",
     "output_type": "stream",
     "text": [
      "Batch 1:  65%|██████▌   | 13/20 [00:07<00:03,  1.78URL/s]"
     ]
    },
    {
     "name": "stdout",
     "output_type": "stream",
     "text": [
      "✅ [13/1620] Opened: https://etfdb.com/advisor_reports/ARKW/\n"
     ]
    },
    {
     "name": "stderr",
     "output_type": "stream",
     "text": [
      "Batch 1:  70%|███████   | 14/20 [00:07<00:03,  1.81URL/s]"
     ]
    },
    {
     "name": "stdout",
     "output_type": "stream",
     "text": [
      "✅ [14/1620] Opened: https://etfdb.com/advisor_reports/FIXD/\n"
     ]
    },
    {
     "name": "stderr",
     "output_type": "stream",
     "text": [
      "Batch 1:  75%|███████▌  | 15/20 [00:08<00:02,  1.81URL/s]"
     ]
    },
    {
     "name": "stdout",
     "output_type": "stream",
     "text": [
      "✅ [15/1620] Opened: https://etfdb.com/advisor_reports/NEAR/\n"
     ]
    },
    {
     "name": "stderr",
     "output_type": "stream",
     "text": [
      "Batch 1:  80%|████████  | 16/20 [00:08<00:02,  1.81URL/s]"
     ]
    },
    {
     "name": "stdout",
     "output_type": "stream",
     "text": [
      "✅ [16/1620] Opened: https://etfdb.com/advisor_reports/DFAX/\n"
     ]
    },
    {
     "name": "stderr",
     "output_type": "stream",
     "text": [
      "Batch 1:  85%|████████▌ | 17/20 [00:09<00:01,  1.83URL/s]"
     ]
    },
    {
     "name": "stdout",
     "output_type": "stream",
     "text": [
      "✅ [17/1620] Opened: https://etfdb.com/advisor_reports/DFAS/\n"
     ]
    },
    {
     "name": "stderr",
     "output_type": "stream",
     "text": [
      "Batch 1:  90%|█████████ | 18/20 [00:09<00:01,  1.88URL/s]"
     ]
    },
    {
     "name": "stdout",
     "output_type": "stream",
     "text": [
      "✅ [18/1620] Opened: https://etfdb.com/advisor_reports/FTSM/\n"
     ]
    },
    {
     "name": "stderr",
     "output_type": "stream",
     "text": [
      "Batch 1:  95%|█████████▌| 19/20 [00:10<00:00,  1.90URL/s]"
     ]
    },
    {
     "name": "stdout",
     "output_type": "stream",
     "text": [
      "✅ [19/1620] Opened: https://etfdb.com/advisor_reports/BOND/\n"
     ]
    },
    {
     "name": "stderr",
     "output_type": "stream",
     "text": [
      "Batch 1: 100%|██████████| 20/20 [00:10<00:00,  1.83URL/s]"
     ]
    },
    {
     "name": "stdout",
     "output_type": "stream",
     "text": [
      "✅ [20/1620] Opened: https://etfdb.com/advisor_reports/JEPI/\n",
      "⏳ Waiting 5 seconds after batch 1...\n",
      "\n"
     ]
    },
    {
     "name": "stderr",
     "output_type": "stream",
     "text": [
      "\n"
     ]
    },
    {
     "name": "stdout",
     "output_type": "stream",
     "text": [
      "\n",
      "🚀 Opening batch 2 (20 URLs)\n"
     ]
    },
    {
     "name": "stderr",
     "output_type": "stream",
     "text": [
      "Batch 2:   5%|▌         | 1/20 [00:00<00:09,  1.94URL/s]"
     ]
    },
    {
     "name": "stdout",
     "output_type": "stream",
     "text": [
      "✅ [21/1620] Opened: https://etfdb.com/advisor_reports/DFIV/\n"
     ]
    },
    {
     "name": "stderr",
     "output_type": "stream",
     "text": [
      "Batch 2:  10%|█         | 2/20 [00:01<00:10,  1.67URL/s]"
     ]
    },
    {
     "name": "stdout",
     "output_type": "stream",
     "text": [
      "✅ [22/1620] Opened: https://etfdb.com/advisor_reports/IVOL/\n"
     ]
    },
    {
     "name": "stderr",
     "output_type": "stream",
     "text": [
      "Batch 2:  15%|█▌        | 3/20 [00:01<00:09,  1.76URL/s]"
     ]
    },
    {
     "name": "stdout",
     "output_type": "stream",
     "text": [
      "✅ [23/1620] Opened: https://etfdb.com/advisor_reports/ARKF/\n"
     ]
    },
    {
     "name": "stderr",
     "output_type": "stream",
     "text": [
      "Batch 2:  20%|██        | 4/20 [00:02<00:08,  1.83URL/s]"
     ]
    },
    {
     "name": "stdout",
     "output_type": "stream",
     "text": [
      "✅ [24/1620] Opened: https://etfdb.com/advisor_reports/TOTL/\n"
     ]
    },
    {
     "name": "stderr",
     "output_type": "stream",
     "text": [
      "Batch 2:  25%|██▌       | 5/20 [00:02<00:07,  1.89URL/s]"
     ]
    },
    {
     "name": "stdout",
     "output_type": "stream",
     "text": [
      "✅ [25/1620] Opened: https://etfdb.com/advisor_reports/GSY/\n"
     ]
    },
    {
     "name": "stderr",
     "output_type": "stream",
     "text": [
      "Batch 2:  30%|███       | 6/20 [00:03<00:07,  1.91URL/s]"
     ]
    },
    {
     "name": "stdout",
     "output_type": "stream",
     "text": [
      "✅ [26/1620] Opened: https://etfdb.com/advisor_reports/FTSL/\n"
     ]
    },
    {
     "name": "stderr",
     "output_type": "stream",
     "text": [
      "Batch 2:  35%|███▌      | 7/20 [00:03<00:06,  1.89URL/s]"
     ]
    },
    {
     "name": "stdout",
     "output_type": "stream",
     "text": [
      "✅ [27/1620] Opened: https://etfdb.com/advisor_reports/VNLA/\n"
     ]
    },
    {
     "name": "stderr",
     "output_type": "stream",
     "text": [
      "Batch 2:  40%|████      | 8/20 [00:04<00:06,  1.91URL/s]"
     ]
    },
    {
     "name": "stdout",
     "output_type": "stream",
     "text": [
      "✅ [28/1620] Opened: https://etfdb.com/advisor_reports/ARKQ/\n"
     ]
    },
    {
     "name": "stderr",
     "output_type": "stream",
     "text": [
      "Batch 2:  45%|████▌     | 9/20 [00:04<00:05,  1.90URL/s]"
     ]
    },
    {
     "name": "stdout",
     "output_type": "stream",
     "text": [
      "✅ [29/1620] Opened: https://etfdb.com/advisor_reports/FMB/\n"
     ]
    },
    {
     "name": "stderr",
     "output_type": "stream",
     "text": [
      "Batch 2:  50%|█████     | 10/20 [00:05<00:05,  1.90URL/s]"
     ]
    },
    {
     "name": "stdout",
     "output_type": "stream",
     "text": [
      "✅ [30/1620] Opened: https://etfdb.com/advisor_reports/HYLS/\n"
     ]
    },
    {
     "name": "stderr",
     "output_type": "stream",
     "text": [
      "Batch 2:  55%|█████▌    | 11/20 [00:05<00:04,  1.93URL/s]"
     ]
    },
    {
     "name": "stdout",
     "output_type": "stream",
     "text": [
      "✅ [31/1620] Opened: https://etfdb.com/advisor_reports/JMST/\n"
     ]
    },
    {
     "name": "stderr",
     "output_type": "stream",
     "text": [
      "Batch 2:  60%|██████    | 12/20 [00:06<00:04,  1.93URL/s]"
     ]
    },
    {
     "name": "stdout",
     "output_type": "stream",
     "text": [
      "✅ [32/1620] Opened: https://etfdb.com/advisor_reports/FTGC/\n"
     ]
    },
    {
     "name": "stderr",
     "output_type": "stream",
     "text": [
      "Batch 2:  65%|██████▌   | 13/20 [00:06<00:03,  1.91URL/s]"
     ]
    },
    {
     "name": "stdout",
     "output_type": "stream",
     "text": [
      "✅ [33/1620] Opened: https://etfdb.com/advisor_reports/USMC/\n"
     ]
    },
    {
     "name": "stderr",
     "output_type": "stream",
     "text": [
      "Batch 2:  70%|███████   | 14/20 [00:07<00:03,  1.94URL/s]"
     ]
    },
    {
     "name": "stdout",
     "output_type": "stream",
     "text": [
      "✅ [34/1620] Opened: https://etfdb.com/advisor_reports/EMLP/\n"
     ]
    },
    {
     "name": "stderr",
     "output_type": "stream",
     "text": [
      "Batch 2:  75%|███████▌  | 15/20 [00:07<00:02,  1.88URL/s]"
     ]
    },
    {
     "name": "stdout",
     "output_type": "stream",
     "text": [
      "✅ [35/1620] Opened: https://etfdb.com/advisor_reports/FBND/\n"
     ]
    },
    {
     "name": "stderr",
     "output_type": "stream",
     "text": [
      "Batch 2:  80%|████████  | 16/20 [00:08<00:02,  1.87URL/s]"
     ]
    },
    {
     "name": "stdout",
     "output_type": "stream",
     "text": [
      "✅ [36/1620] Opened: https://etfdb.com/advisor_reports/AVUV/\n"
     ]
    },
    {
     "name": "stderr",
     "output_type": "stream",
     "text": [
      "Batch 2:  85%|████████▌ | 17/20 [00:09<00:01,  1.87URL/s]"
     ]
    },
    {
     "name": "stdout",
     "output_type": "stream",
     "text": [
      "✅ [37/1620] Opened: https://etfdb.com/advisor_reports/PULS/\n"
     ]
    },
    {
     "name": "stderr",
     "output_type": "stream",
     "text": [
      "Batch 2:  90%|█████████ | 18/20 [00:09<00:01,  1.90URL/s]"
     ]
    },
    {
     "name": "stdout",
     "output_type": "stream",
     "text": [
      "✅ [38/1620] Opened: https://etfdb.com/advisor_reports/PSC/\n"
     ]
    },
    {
     "name": "stderr",
     "output_type": "stream",
     "text": [
      "Batch 2:  95%|█████████▌| 19/20 [00:10<00:00,  1.88URL/s]"
     ]
    },
    {
     "name": "stdout",
     "output_type": "stream",
     "text": [
      "✅ [39/1620] Opened: https://etfdb.com/advisor_reports/FLCB/\n"
     ]
    },
    {
     "name": "stderr",
     "output_type": "stream",
     "text": [
      "Batch 2: 100%|██████████| 20/20 [00:10<00:00,  1.89URL/s]"
     ]
    },
    {
     "name": "stdout",
     "output_type": "stream",
     "text": [
      "✅ [40/1620] Opened: https://etfdb.com/advisor_reports/AVUS/\n",
      "⏳ Waiting 5 seconds after batch 2...\n",
      "\n"
     ]
    },
    {
     "name": "stderr",
     "output_type": "stream",
     "text": [
      "\n"
     ]
    },
    {
     "name": "stdout",
     "output_type": "stream",
     "text": [
      "\n",
      "🚀 Opening batch 3 (20 URLs)\n"
     ]
    },
    {
     "name": "stderr",
     "output_type": "stream",
     "text": [
      "Batch 3:   5%|▌         | 1/20 [00:00<00:10,  1.87URL/s]"
     ]
    },
    {
     "name": "stdout",
     "output_type": "stream",
     "text": [
      "✅ [41/1620] Opened: https://etfdb.com/advisor_reports/BLOK/\n"
     ]
    },
    {
     "name": "stderr",
     "output_type": "stream",
     "text": [
      "Batch 3:  10%|█         | 2/20 [00:01<00:09,  1.90URL/s]"
     ]
    },
    {
     "name": "stdout",
     "output_type": "stream",
     "text": [
      "✅ [42/1620] Opened: https://etfdb.com/advisor_reports/RPAR/\n"
     ]
    },
    {
     "name": "stderr",
     "output_type": "stream",
     "text": [
      "Batch 3:  15%|█▌        | 3/20 [00:01<00:08,  1.94URL/s]"
     ]
    }
   ],
   "source": [
    "import pandas as pd\n",
    "import time\n",
    "import os\n",
    "from selenium import webdriver\n",
    "from selenium.webdriver.chrome.service import Service\n",
    "from webdriver_manager.chrome import ChromeDriverManager\n",
    "from tqdm import tqdm\n",
    "\n",
    "def get_tickers_from_csv(file_name=\"0. All Avtively Managed US ETFs.csv\"):\n",
    "    \"\"\"\n",
    "    Read the 'symbol' or 'ticker' column from the CSV file (header in 2nd row)\n",
    "    and return a list of unique tickers.\n",
    "    \"\"\"\n",
    "    try:\n",
    "        df = pd.read_csv(file_name, skiprows=1)\n",
    "        df.columns = df.columns.str.strip().str.lower()\n",
    "        for col in df.columns:\n",
    "            if col in ['symbol', 'ticker']:\n",
    "                tickers = df[col].dropna().astype(str).unique().tolist()\n",
    "                return tickers\n",
    "        raise ValueError(\"No 'symbol' or 'ticker' column found in the file.\")\n",
    "    except Exception as e:\n",
    "        print(f\"❌ Failed to read file: {e}\")\n",
    "        return []\n",
    "\n",
    "def open_etfdb_urls_with_pdf_download(tickers, download_path=\"ETFDB Advisor Report\", batch_size=20, delay=5):\n",
    "    \"\"\"\n",
    "    Automatically open ETFdb advisor report URLs in Chrome and trigger PDF downloads\n",
    "    using Chrome's native settings (not manual download via Python).\n",
    "    \"\"\"\n",
    "    os.makedirs(download_path, exist_ok=True)\n",
    "\n",
    "    # Chrome download preferences\n",
    "    options = webdriver.ChromeOptions()\n",
    "    prefs = {\n",
    "        \"download.default_directory\": os.path.abspath(download_path),  # Where PDFs will be saved\n",
    "        \"plugins.always_open_pdf_externally\": True,  # Force download instead of preview\n",
    "        \"download.prompt_for_download\": False,\n",
    "        \"download.directory_upgrade\": True\n",
    "    }\n",
    "    options.add_experimental_option(\"prefs\", prefs)\n",
    "    options.add_argument(\"--no-sandbox\")\n",
    "    options.add_argument(\"--disable-dev-shm-usage\")\n",
    "\n",
    "    driver = webdriver.Chrome(service=Service(ChromeDriverManager().install()), options=options)\n",
    "\n",
    "    total = len(tickers)\n",
    "    urls = [f\"https://etfdb.com/advisor_reports/{ticker.upper()}/\" for ticker in tickers]\n",
    "    print(f\"\\n🎯 Total ETFs to process: {total}\\n\")\n",
    "\n",
    "    count = 0\n",
    "    for i in range(0, total, batch_size):\n",
    "        batch = urls[i:i + batch_size]\n",
    "        print(f\"\\n🚀 Opening batch {i // batch_size + 1} ({len(batch)} URLs)\")\n",
    "\n",
    "        for url in tqdm(batch, desc=f\"Batch {i // batch_size + 1}\", unit=\"URL\"):\n",
    "            count += 1\n",
    "            try:\n",
    "                driver.get(url)\n",
    "                print(f\"✅ [{count}/{total}] Opened: {url}\")\n",
    "            except Exception as e:\n",
    "                print(f\"⚠️ [{count}/{total}] Failed to open {url}: {e}\")\n",
    "\n",
    "        print(f\"⏳ Waiting {delay} seconds after batch {i // batch_size + 1}...\\n\")\n",
    "        time.sleep(delay)\n",
    "\n",
    "    driver.quit()\n",
    "    print(f\"\\n✅ All {total} URLs have been opened. PDFs are downloading to: {os.path.abspath(download_path)}\")\n",
    "\n",
    "# === Run ===\n",
    "tickers = get_tickers_from_csv(\"0. All Avtively Managed US ETFs.csv\")\n",
    "if tickers:\n",
    "    open_etfdb_urls_with_pdf_download(tickers, download_path=\"downloads\", batch_size=20, delay=5)\n"
   ]
  },
  {
   "cell_type": "markdown",
   "metadata": {},
   "source": []
  }
 ],
 "metadata": {
  "kernelspec": {
   "display_name": "finance_venv",
   "language": "python",
   "name": "python3"
  },
  "language_info": {
   "codemirror_mode": {
    "name": "ipython",
    "version": 3
   },
   "file_extension": ".py",
   "mimetype": "text/x-python",
   "name": "python",
   "nbconvert_exporter": "python",
   "pygments_lexer": "ipython3",
   "version": "3.11.5"
  }
 },
 "nbformat": 4,
 "nbformat_minor": 2
}

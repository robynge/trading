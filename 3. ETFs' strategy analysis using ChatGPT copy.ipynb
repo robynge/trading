{
 "cells": [
  {
   "cell_type": "code",
   "execution_count": null,
   "metadata": {},
   "outputs": [],
   "source": [
    "robyn_api_key="
   ]
  },
  {
   "cell_type": "code",
   "execution_count": 8,
   "metadata": {},
   "outputs": [
    {
     "name": "stdout",
     "output_type": "stream",
     "text": [
      "gpt-4o-audio-preview-2024-12-17\n",
      "dall-e-3\n",
      "dall-e-2\n",
      "gpt-4o-audio-preview-2024-10-01\n",
      "gpt-4o-realtime-preview-2024-10-01\n",
      "gpt-4o-transcribe\n",
      "gpt-4o-mini-transcribe\n",
      "gpt-4o-realtime-preview\n",
      "babbage-002\n",
      "tts-1-hd-1106\n",
      "text-embedding-3-large\n",
      "gpt-4\n",
      "text-embedding-ada-002\n",
      "tts-1-hd\n",
      "gpt-4o-mini-audio-preview\n",
      "gpt-4-0125-preview\n",
      "gpt-4o-audio-preview\n",
      "gpt-4-turbo-preview\n",
      "o1-preview-2024-09-12\n",
      "gpt-4o-mini-realtime-preview\n",
      "gpt-4o-mini-realtime-preview-2024-12-17\n",
      "gpt-3.5-turbo-instruct-0914\n",
      "gpt-4o-mini-search-preview\n",
      "tts-1-1106\n",
      "davinci-002\n",
      "gpt-3.5-turbo-1106\n",
      "gpt-4-turbo\n",
      "gpt-4o-realtime-preview-2024-12-17\n",
      "gpt-3.5-turbo-instruct\n",
      "gpt-3.5-turbo\n",
      "chatgpt-4o-latest\n",
      "gpt-4o-mini-search-preview-2025-03-11\n",
      "gpt-4o-2024-11-20\n",
      "whisper-1\n",
      "gpt-4o-2024-05-13\n",
      "gpt-3.5-turbo-16k\n",
      "gpt-4-turbo-2024-04-09\n",
      "gpt-4-1106-preview\n",
      "o1-preview\n",
      "gpt-4-0613\n",
      "gpt-4o-search-preview\n",
      "gpt-4.5-preview\n",
      "gpt-4.5-preview-2025-02-27\n",
      "gpt-4o-search-preview-2025-03-11\n",
      "tts-1\n",
      "omni-moderation-2024-09-26\n",
      "o1\n",
      "o1-2024-12-17\n",
      "text-embedding-3-small\n",
      "gpt-4o\n",
      "o3-mini-2025-01-31\n",
      "gpt-4o-mini\n",
      "gpt-4o-2024-08-06\n",
      "o3-mini\n",
      "gpt-4o-mini-2024-07-18\n",
      "o1-mini\n",
      "gpt-4o-mini-audio-preview-2024-12-17\n",
      "gpt-3.5-turbo-0125\n",
      "o1-mini-2024-09-12\n",
      "gpt-4o-mini-tts\n",
      "omni-moderation-latest\n"
     ]
    }
   ],
   "source": [
    "from openai import OpenAI\n",
    "\n",
    "client = OpenAI(api_key=robyn_api_key)\n",
    "\n",
    "response = client.models.list()\n",
    "for model in response.data:\n",
    "    print(model.id)\n"
   ]
  },
  {
   "cell_type": "code",
   "execution_count": null,
   "metadata": {},
   "outputs": [
    {
     "name": "stdout",
     "output_type": "stream",
     "text": [
      "🆕 Starting fresh analysis...\n"
     ]
    },
    {
     "name": "stderr",
     "output_type": "stream",
     "text": [
      "Processing ETFs:   1%|          | 9/1468 [00:26<1:09:59,  2.88s/etf]"
     ]
    },
    {
     "name": "stdout",
     "output_type": "stream",
     "text": [
      "💾 Saved progress at row 10 → etf_with_ark_analysis_clean.xlsx\n"
     ]
    },
    {
     "name": "stderr",
     "output_type": "stream",
     "text": [
      "Processing ETFs:   1%|▏         | 19/1468 [00:56<1:09:54,  2.89s/etf]"
     ]
    },
    {
     "name": "stdout",
     "output_type": "stream",
     "text": [
      "💾 Saved progress at row 20 → etf_with_ark_analysis_clean.xlsx\n"
     ]
    },
    {
     "name": "stderr",
     "output_type": "stream",
     "text": [
      "Processing ETFs:   2%|▏         | 29/1468 [01:26<1:11:44,  2.99s/etf]"
     ]
    },
    {
     "name": "stdout",
     "output_type": "stream",
     "text": [
      "💾 Saved progress at row 30 → etf_with_ark_analysis_clean.xlsx\n"
     ]
    },
    {
     "name": "stderr",
     "output_type": "stream",
     "text": [
      "Processing ETFs:   3%|▎         | 39/1468 [01:56<1:06:52,  2.81s/etf]"
     ]
    },
    {
     "name": "stdout",
     "output_type": "stream",
     "text": [
      "💾 Saved progress at row 40 → etf_with_ark_analysis_clean.xlsx\n"
     ]
    },
    {
     "name": "stderr",
     "output_type": "stream",
     "text": [
      "Processing ETFs:   3%|▎         | 49/1468 [02:23<1:04:58,  2.75s/etf]"
     ]
    },
    {
     "name": "stdout",
     "output_type": "stream",
     "text": [
      "💾 Saved progress at row 50 → etf_with_ark_analysis_clean.xlsx\n"
     ]
    },
    {
     "name": "stderr",
     "output_type": "stream",
     "text": [
      "Processing ETFs:   4%|▍         | 59/1468 [02:50<1:03:40,  2.71s/etf]"
     ]
    },
    {
     "name": "stdout",
     "output_type": "stream",
     "text": [
      "💾 Saved progress at row 60 → etf_with_ark_analysis_clean.xlsx\n"
     ]
    },
    {
     "name": "stderr",
     "output_type": "stream",
     "text": [
      "Processing ETFs:   5%|▍         | 69/1468 [03:23<1:03:06,  2.71s/etf]"
     ]
    },
    {
     "name": "stdout",
     "output_type": "stream",
     "text": [
      "💾 Saved progress at row 70 → etf_with_ark_analysis_clean.xlsx\n"
     ]
    },
    {
     "name": "stderr",
     "output_type": "stream",
     "text": [
      "Processing ETFs:   5%|▌         | 79/1468 [03:51<1:03:51,  2.76s/etf]"
     ]
    },
    {
     "name": "stdout",
     "output_type": "stream",
     "text": [
      "💾 Saved progress at row 80 → etf_with_ark_analysis_clean.xlsx\n"
     ]
    },
    {
     "name": "stderr",
     "output_type": "stream",
     "text": [
      "Processing ETFs:   6%|▌         | 89/1468 [04:20<1:05:38,  2.86s/etf]"
     ]
    },
    {
     "name": "stdout",
     "output_type": "stream",
     "text": [
      "💾 Saved progress at row 90 → etf_with_ark_analysis_clean.xlsx\n"
     ]
    },
    {
     "name": "stderr",
     "output_type": "stream",
     "text": [
      "Processing ETFs:   7%|▋         | 99/1468 [04:53<1:12:07,  3.16s/etf]"
     ]
    },
    {
     "name": "stdout",
     "output_type": "stream",
     "text": [
      "💾 Saved progress at row 100 → etf_with_ark_analysis_clean.xlsx\n"
     ]
    },
    {
     "name": "stderr",
     "output_type": "stream",
     "text": [
      "Processing ETFs:   7%|▋         | 109/1468 [05:22<1:04:10,  2.83s/etf]"
     ]
    },
    {
     "name": "stdout",
     "output_type": "stream",
     "text": [
      "💾 Saved progress at row 110 → etf_with_ark_analysis_clean.xlsx\n"
     ]
    },
    {
     "name": "stderr",
     "output_type": "stream",
     "text": [
      "Processing ETFs:   8%|▊         | 119/1468 [05:51<1:03:33,  2.83s/etf]"
     ]
    },
    {
     "name": "stdout",
     "output_type": "stream",
     "text": [
      "💾 Saved progress at row 120 → etf_with_ark_analysis_clean.xlsx\n"
     ]
    },
    {
     "name": "stderr",
     "output_type": "stream",
     "text": [
      "Processing ETFs:   9%|▉         | 129/1468 [06:19<1:05:04,  2.92s/etf]"
     ]
    },
    {
     "name": "stdout",
     "output_type": "stream",
     "text": [
      "💾 Saved progress at row 130 → etf_with_ark_analysis_clean.xlsx\n"
     ]
    },
    {
     "name": "stderr",
     "output_type": "stream",
     "text": [
      "Processing ETFs:   9%|▉         | 139/1468 [06:48<1:03:59,  2.89s/etf]"
     ]
    },
    {
     "name": "stdout",
     "output_type": "stream",
     "text": [
      "💾 Saved progress at row 140 → etf_with_ark_analysis_clean.xlsx\n"
     ]
    },
    {
     "name": "stderr",
     "output_type": "stream",
     "text": [
      "Processing ETFs:  10%|█         | 149/1468 [07:15<1:00:32,  2.75s/etf]"
     ]
    },
    {
     "name": "stdout",
     "output_type": "stream",
     "text": [
      "💾 Saved progress at row 150 → etf_with_ark_analysis_clean.xlsx\n"
     ]
    },
    {
     "name": "stderr",
     "output_type": "stream",
     "text": [
      "Processing ETFs:  11%|█         | 159/1468 [07:43<59:32,  2.73s/etf]  "
     ]
    },
    {
     "name": "stdout",
     "output_type": "stream",
     "text": [
      "💾 Saved progress at row 160 → etf_with_ark_analysis_clean.xlsx\n"
     ]
    },
    {
     "name": "stderr",
     "output_type": "stream",
     "text": [
      "Processing ETFs:  12%|█▏        | 169/1468 [08:10<59:33,  2.75s/etf]  "
     ]
    },
    {
     "name": "stdout",
     "output_type": "stream",
     "text": [
      "💾 Saved progress at row 170 → etf_with_ark_analysis_clean.xlsx\n"
     ]
    },
    {
     "name": "stderr",
     "output_type": "stream",
     "text": [
      "Processing ETFs:  12%|█▏        | 179/1468 [08:42<1:33:45,  4.36s/etf]"
     ]
    },
    {
     "name": "stdout",
     "output_type": "stream",
     "text": [
      "💾 Saved progress at row 180 → etf_with_ark_analysis_clean.xlsx\n"
     ]
    },
    {
     "name": "stderr",
     "output_type": "stream",
     "text": [
      "Processing ETFs:  13%|█▎        | 189/1468 [09:12<1:05:11,  3.06s/etf]"
     ]
    },
    {
     "name": "stdout",
     "output_type": "stream",
     "text": [
      "💾 Saved progress at row 190 → etf_with_ark_analysis_clean.xlsx\n"
     ]
    },
    {
     "name": "stderr",
     "output_type": "stream",
     "text": [
      "Processing ETFs:  14%|█▎        | 199/1468 [09:45<59:40,  2.82s/etf]  "
     ]
    },
    {
     "name": "stdout",
     "output_type": "stream",
     "text": [
      "💾 Saved progress at row 200 → etf_with_ark_analysis_clean.xlsx\n"
     ]
    },
    {
     "name": "stderr",
     "output_type": "stream",
     "text": [
      "Processing ETFs:  14%|█▍        | 209/1468 [10:14<1:00:23,  2.88s/etf]"
     ]
    },
    {
     "name": "stdout",
     "output_type": "stream",
     "text": [
      "💾 Saved progress at row 210 → etf_with_ark_analysis_clean.xlsx\n"
     ]
    },
    {
     "name": "stderr",
     "output_type": "stream",
     "text": [
      "Processing ETFs:  15%|█▍        | 219/1468 [10:43<1:01:18,  2.95s/etf]"
     ]
    },
    {
     "name": "stdout",
     "output_type": "stream",
     "text": [
      "💾 Saved progress at row 220 → etf_with_ark_analysis_clean.xlsx\n"
     ]
    },
    {
     "name": "stderr",
     "output_type": "stream",
     "text": [
      "Processing ETFs:  16%|█▌        | 229/1468 [11:13<1:02:38,  3.03s/etf]"
     ]
    },
    {
     "name": "stdout",
     "output_type": "stream",
     "text": [
      "💾 Saved progress at row 230 → etf_with_ark_analysis_clean.xlsx\n"
     ]
    },
    {
     "name": "stderr",
     "output_type": "stream",
     "text": [
      "Processing ETFs:  16%|█▋        | 239/1468 [11:45<1:08:57,  3.37s/etf]"
     ]
    },
    {
     "name": "stdout",
     "output_type": "stream",
     "text": [
      "💾 Saved progress at row 240 → etf_with_ark_analysis_clean.xlsx\n"
     ]
    },
    {
     "name": "stderr",
     "output_type": "stream",
     "text": [
      "Processing ETFs:  17%|█▋        | 249/1468 [12:12<51:48,  2.55s/etf]  "
     ]
    },
    {
     "name": "stdout",
     "output_type": "stream",
     "text": [
      "💾 Saved progress at row 250 → etf_with_ark_analysis_clean.xlsx\n"
     ]
    },
    {
     "name": "stderr",
     "output_type": "stream",
     "text": [
      "Processing ETFs:  18%|█▊        | 259/1468 [12:41<53:51,  2.67s/etf]  "
     ]
    },
    {
     "name": "stdout",
     "output_type": "stream",
     "text": [
      "💾 Saved progress at row 260 → etf_with_ark_analysis_clean.xlsx\n"
     ]
    },
    {
     "name": "stderr",
     "output_type": "stream",
     "text": [
      "Processing ETFs:  18%|█▊        | 269/1468 [13:10<56:39,  2.83s/etf]  "
     ]
    },
    {
     "name": "stdout",
     "output_type": "stream",
     "text": [
      "💾 Saved progress at row 270 → etf_with_ark_analysis_clean.xlsx\n"
     ]
    },
    {
     "name": "stderr",
     "output_type": "stream",
     "text": [
      "Processing ETFs:  19%|█▉        | 279/1468 [13:38<50:06,  2.53s/etf]  "
     ]
    },
    {
     "name": "stdout",
     "output_type": "stream",
     "text": [
      "💾 Saved progress at row 280 → etf_with_ark_analysis_clean.xlsx\n"
     ]
    },
    {
     "name": "stderr",
     "output_type": "stream",
     "text": [
      "Processing ETFs:  20%|█▉        | 289/1468 [14:07<56:14,  2.86s/etf]  "
     ]
    },
    {
     "name": "stdout",
     "output_type": "stream",
     "text": [
      "💾 Saved progress at row 290 → etf_with_ark_analysis_clean.xlsx\n"
     ]
    },
    {
     "name": "stderr",
     "output_type": "stream",
     "text": [
      "Processing ETFs:  20%|██        | 299/1468 [14:37<54:41,  2.81s/etf]  "
     ]
    },
    {
     "name": "stdout",
     "output_type": "stream",
     "text": [
      "💾 Saved progress at row 300 → etf_with_ark_analysis_clean.xlsx\n"
     ]
    },
    {
     "name": "stderr",
     "output_type": "stream",
     "text": [
      "Processing ETFs:  21%|██        | 309/1468 [15:05<52:38,  2.73s/etf]"
     ]
    },
    {
     "name": "stdout",
     "output_type": "stream",
     "text": [
      "💾 Saved progress at row 310 → etf_with_ark_analysis_clean.xlsx\n"
     ]
    },
    {
     "name": "stderr",
     "output_type": "stream",
     "text": [
      "Processing ETFs:  22%|██▏       | 319/1468 [15:34<57:19,  2.99s/etf]"
     ]
    },
    {
     "name": "stdout",
     "output_type": "stream",
     "text": [
      "💾 Saved progress at row 320 → etf_with_ark_analysis_clean.xlsx\n"
     ]
    },
    {
     "name": "stderr",
     "output_type": "stream",
     "text": [
      "Processing ETFs:  22%|██▏       | 329/1468 [16:04<54:50,  2.89s/etf]  "
     ]
    },
    {
     "name": "stdout",
     "output_type": "stream",
     "text": [
      "💾 Saved progress at row 330 → etf_with_ark_analysis_clean.xlsx\n"
     ]
    },
    {
     "name": "stderr",
     "output_type": "stream",
     "text": [
      "Processing ETFs:  23%|██▎       | 339/1468 [16:34<54:11,  2.88s/etf]  "
     ]
    },
    {
     "name": "stdout",
     "output_type": "stream",
     "text": [
      "💾 Saved progress at row 340 → etf_with_ark_analysis_clean.xlsx\n"
     ]
    },
    {
     "name": "stderr",
     "output_type": "stream",
     "text": [
      "Processing ETFs:  24%|██▍       | 349/1468 [17:01<47:32,  2.55s/etf]"
     ]
    },
    {
     "name": "stdout",
     "output_type": "stream",
     "text": [
      "💾 Saved progress at row 350 → etf_with_ark_analysis_clean.xlsx\n"
     ]
    },
    {
     "name": "stderr",
     "output_type": "stream",
     "text": [
      "Processing ETFs:  24%|██▍       | 359/1468 [17:28<56:41,  3.07s/etf]"
     ]
    },
    {
     "name": "stdout",
     "output_type": "stream",
     "text": [
      "💾 Saved progress at row 360 → etf_with_ark_analysis_clean.xlsx\n"
     ]
    },
    {
     "name": "stderr",
     "output_type": "stream",
     "text": [
      "Processing ETFs:  25%|██▌       | 369/1468 [17:58<1:00:44,  3.32s/etf]"
     ]
    },
    {
     "name": "stdout",
     "output_type": "stream",
     "text": [
      "💾 Saved progress at row 370 → etf_with_ark_analysis_clean.xlsx\n"
     ]
    },
    {
     "name": "stderr",
     "output_type": "stream",
     "text": [
      "Processing ETFs:  26%|██▌       | 379/1468 [18:27<52:37,  2.90s/etf]  "
     ]
    },
    {
     "name": "stdout",
     "output_type": "stream",
     "text": [
      "💾 Saved progress at row 380 → etf_with_ark_analysis_clean.xlsx\n"
     ]
    },
    {
     "name": "stderr",
     "output_type": "stream",
     "text": [
      "Processing ETFs:  26%|██▋       | 389/1468 [18:56<50:12,  2.79s/etf]"
     ]
    },
    {
     "name": "stdout",
     "output_type": "stream",
     "text": [
      "💾 Saved progress at row 390 → etf_with_ark_analysis_clean.xlsx\n"
     ]
    },
    {
     "name": "stderr",
     "output_type": "stream",
     "text": [
      "Processing ETFs:  27%|██▋       | 399/1468 [19:26<56:35,  3.18s/etf]"
     ]
    },
    {
     "name": "stdout",
     "output_type": "stream",
     "text": [
      "💾 Saved progress at row 400 → etf_with_ark_analysis_clean.xlsx\n"
     ]
    },
    {
     "name": "stderr",
     "output_type": "stream",
     "text": [
      "Processing ETFs:  28%|██▊       | 409/1468 [19:55<50:32,  2.86s/etf]"
     ]
    },
    {
     "name": "stdout",
     "output_type": "stream",
     "text": [
      "💾 Saved progress at row 410 → etf_with_ark_analysis_clean.xlsx\n"
     ]
    },
    {
     "name": "stderr",
     "output_type": "stream",
     "text": [
      "Processing ETFs:  29%|██▊       | 419/1468 [20:24<48:21,  2.77s/etf]"
     ]
    },
    {
     "name": "stdout",
     "output_type": "stream",
     "text": [
      "💾 Saved progress at row 420 → etf_with_ark_analysis_clean.xlsx\n"
     ]
    },
    {
     "name": "stderr",
     "output_type": "stream",
     "text": [
      "Processing ETFs:  29%|██▉       | 429/1468 [20:53<51:43,  2.99s/etf]"
     ]
    },
    {
     "name": "stdout",
     "output_type": "stream",
     "text": [
      "💾 Saved progress at row 430 → etf_with_ark_analysis_clean.xlsx\n"
     ]
    },
    {
     "name": "stderr",
     "output_type": "stream",
     "text": [
      "Processing ETFs:  30%|██▉       | 439/1468 [21:26<48:33,  2.83s/etf]  "
     ]
    },
    {
     "name": "stdout",
     "output_type": "stream",
     "text": [
      "💾 Saved progress at row 440 → etf_with_ark_analysis_clean.xlsx\n"
     ]
    },
    {
     "name": "stderr",
     "output_type": "stream",
     "text": [
      "Processing ETFs:  31%|███       | 449/1468 [21:55<50:45,  2.99s/etf]"
     ]
    },
    {
     "name": "stdout",
     "output_type": "stream",
     "text": [
      "💾 Saved progress at row 450 → etf_with_ark_analysis_clean.xlsx\n"
     ]
    },
    {
     "name": "stderr",
     "output_type": "stream",
     "text": [
      "Processing ETFs:  31%|███▏      | 459/1468 [22:27<56:53,  3.38s/etf]"
     ]
    },
    {
     "name": "stdout",
     "output_type": "stream",
     "text": [
      "💾 Saved progress at row 460 → etf_with_ark_analysis_clean.xlsx\n"
     ]
    },
    {
     "name": "stderr",
     "output_type": "stream",
     "text": [
      "Processing ETFs:  32%|███▏      | 469/1468 [22:58<48:35,  2.92s/etf]"
     ]
    },
    {
     "name": "stdout",
     "output_type": "stream",
     "text": [
      "💾 Saved progress at row 470 → etf_with_ark_analysis_clean.xlsx\n"
     ]
    },
    {
     "name": "stderr",
     "output_type": "stream",
     "text": [
      "Processing ETFs:  33%|███▎      | 479/1468 [23:28<50:12,  3.05s/etf]"
     ]
    },
    {
     "name": "stdout",
     "output_type": "stream",
     "text": [
      "💾 Saved progress at row 480 → etf_with_ark_analysis_clean.xlsx\n"
     ]
    },
    {
     "name": "stderr",
     "output_type": "stream",
     "text": [
      "Processing ETFs:  33%|███▎      | 489/1468 [23:57<47:10,  2.89s/etf]"
     ]
    },
    {
     "name": "stdout",
     "output_type": "stream",
     "text": [
      "💾 Saved progress at row 490 → etf_with_ark_analysis_clean.xlsx\n"
     ]
    },
    {
     "name": "stderr",
     "output_type": "stream",
     "text": [
      "Processing ETFs:  34%|███▍      | 499/1468 [24:26<45:24,  2.81s/etf]"
     ]
    },
    {
     "name": "stdout",
     "output_type": "stream",
     "text": [
      "💾 Saved progress at row 500 → etf_with_ark_analysis_clean.xlsx\n"
     ]
    },
    {
     "name": "stderr",
     "output_type": "stream",
     "text": [
      "Processing ETFs:  35%|███▍      | 509/1468 [24:55<42:46,  2.68s/etf]"
     ]
    },
    {
     "name": "stdout",
     "output_type": "stream",
     "text": [
      "💾 Saved progress at row 510 → etf_with_ark_analysis_clean.xlsx\n"
     ]
    },
    {
     "name": "stderr",
     "output_type": "stream",
     "text": [
      "Processing ETFs:  35%|███▌      | 519/1468 [25:26<45:59,  2.91s/etf]"
     ]
    },
    {
     "name": "stdout",
     "output_type": "stream",
     "text": [
      "💾 Saved progress at row 520 → etf_with_ark_analysis_clean.xlsx\n"
     ]
    },
    {
     "name": "stderr",
     "output_type": "stream",
     "text": [
      "Processing ETFs:  36%|███▌      | 529/1468 [25:56<49:15,  3.15s/etf]"
     ]
    },
    {
     "name": "stdout",
     "output_type": "stream",
     "text": [
      "💾 Saved progress at row 530 → etf_with_ark_analysis_clean.xlsx\n"
     ]
    },
    {
     "name": "stderr",
     "output_type": "stream",
     "text": [
      "Processing ETFs:  37%|███▋      | 539/1468 [26:30<57:27,  3.71s/etf]"
     ]
    },
    {
     "name": "stdout",
     "output_type": "stream",
     "text": [
      "💾 Saved progress at row 540 → etf_with_ark_analysis_clean.xlsx\n"
     ]
    },
    {
     "name": "stderr",
     "output_type": "stream",
     "text": [
      "Processing ETFs:  37%|███▋      | 549/1468 [26:59<44:05,  2.88s/etf]"
     ]
    },
    {
     "name": "stdout",
     "output_type": "stream",
     "text": [
      "💾 Saved progress at row 550 → etf_with_ark_analysis_clean.xlsx\n"
     ]
    },
    {
     "name": "stderr",
     "output_type": "stream",
     "text": [
      "Processing ETFs:  38%|███▊      | 559/1468 [27:33<48:08,  3.18s/etf]  "
     ]
    },
    {
     "name": "stdout",
     "output_type": "stream",
     "text": [
      "💾 Saved progress at row 560 → etf_with_ark_analysis_clean.xlsx\n"
     ]
    },
    {
     "name": "stderr",
     "output_type": "stream",
     "text": [
      "Processing ETFs:  39%|███▉      | 569/1468 [28:05<50:49,  3.39s/etf]"
     ]
    },
    {
     "name": "stdout",
     "output_type": "stream",
     "text": [
      "💾 Saved progress at row 570 → etf_with_ark_analysis_clean.xlsx\n"
     ]
    },
    {
     "name": "stderr",
     "output_type": "stream",
     "text": [
      "Processing ETFs:  39%|███▉      | 579/1468 [28:34<41:20,  2.79s/etf]"
     ]
    },
    {
     "name": "stdout",
     "output_type": "stream",
     "text": [
      "💾 Saved progress at row 580 → etf_with_ark_analysis_clean.xlsx\n"
     ]
    },
    {
     "name": "stderr",
     "output_type": "stream",
     "text": [
      "Processing ETFs:  40%|████      | 589/1468 [29:07<51:42,  3.53s/etf]"
     ]
    },
    {
     "name": "stdout",
     "output_type": "stream",
     "text": [
      "💾 Saved progress at row 590 → etf_with_ark_analysis_clean.xlsx\n"
     ]
    },
    {
     "name": "stderr",
     "output_type": "stream",
     "text": [
      "Processing ETFs:  41%|████      | 599/1468 [29:43<52:05,  3.60s/etf]  "
     ]
    },
    {
     "name": "stdout",
     "output_type": "stream",
     "text": [
      "💾 Saved progress at row 600 → etf_with_ark_analysis_clean.xlsx\n"
     ]
    },
    {
     "name": "stderr",
     "output_type": "stream",
     "text": [
      "Processing ETFs:  41%|████▏     | 609/1468 [30:15<48:30,  3.39s/etf]"
     ]
    },
    {
     "name": "stdout",
     "output_type": "stream",
     "text": [
      "💾 Saved progress at row 610 → etf_with_ark_analysis_clean.xlsx\n"
     ]
    },
    {
     "name": "stderr",
     "output_type": "stream",
     "text": [
      "Processing ETFs:  42%|████▏     | 619/1468 [30:48<50:01,  3.54s/etf]"
     ]
    },
    {
     "name": "stdout",
     "output_type": "stream",
     "text": [
      "💾 Saved progress at row 620 → etf_with_ark_analysis_clean.xlsx\n"
     ]
    },
    {
     "name": "stderr",
     "output_type": "stream",
     "text": [
      "Processing ETFs:  43%|████▎     | 629/1468 [31:25<45:37,  3.26s/etf]  "
     ]
    },
    {
     "name": "stdout",
     "output_type": "stream",
     "text": [
      "💾 Saved progress at row 630 → etf_with_ark_analysis_clean.xlsx\n"
     ]
    },
    {
     "name": "stderr",
     "output_type": "stream",
     "text": [
      "Processing ETFs:  44%|████▎     | 639/1468 [32:04<53:07,  3.85s/etf]  "
     ]
    },
    {
     "name": "stdout",
     "output_type": "stream",
     "text": [
      "💾 Saved progress at row 640 → etf_with_ark_analysis_clean.xlsx\n"
     ]
    },
    {
     "name": "stderr",
     "output_type": "stream",
     "text": [
      "Processing ETFs:  44%|████▍     | 649/1468 [32:39<58:54,  4.32s/etf]"
     ]
    },
    {
     "name": "stdout",
     "output_type": "stream",
     "text": [
      "💾 Saved progress at row 650 → etf_with_ark_analysis_clean.xlsx\n"
     ]
    },
    {
     "name": "stderr",
     "output_type": "stream",
     "text": [
      "Processing ETFs:  45%|████▍     | 659/1468 [33:11<42:14,  3.13s/etf]"
     ]
    },
    {
     "name": "stdout",
     "output_type": "stream",
     "text": [
      "💾 Saved progress at row 660 → etf_with_ark_analysis_clean.xlsx\n"
     ]
    },
    {
     "name": "stderr",
     "output_type": "stream",
     "text": [
      "Processing ETFs:  46%|████▌     | 669/1468 [33:47<45:05,  3.39s/etf]"
     ]
    },
    {
     "name": "stdout",
     "output_type": "stream",
     "text": [
      "💾 Saved progress at row 670 → etf_with_ark_analysis_clean.xlsx\n"
     ]
    },
    {
     "name": "stderr",
     "output_type": "stream",
     "text": [
      "Processing ETFs:  46%|████▋     | 679/1468 [34:17<40:22,  3.07s/etf]"
     ]
    },
    {
     "name": "stdout",
     "output_type": "stream",
     "text": [
      "💾 Saved progress at row 680 → etf_with_ark_analysis_clean.xlsx\n"
     ]
    },
    {
     "name": "stderr",
     "output_type": "stream",
     "text": [
      "Processing ETFs:  47%|████▋     | 689/1468 [34:52<39:54,  3.07s/etf]"
     ]
    },
    {
     "name": "stdout",
     "output_type": "stream",
     "text": [
      "💾 Saved progress at row 690 → etf_with_ark_analysis_clean.xlsx\n"
     ]
    },
    {
     "name": "stderr",
     "output_type": "stream",
     "text": [
      "Processing ETFs:  48%|████▊     | 699/1468 [35:25<45:33,  3.55s/etf]"
     ]
    },
    {
     "name": "stdout",
     "output_type": "stream",
     "text": [
      "💾 Saved progress at row 700 → etf_with_ark_analysis_clean.xlsx\n"
     ]
    },
    {
     "name": "stderr",
     "output_type": "stream",
     "text": [
      "Processing ETFs:  48%|████▊     | 709/1468 [36:01<50:19,  3.98s/etf]"
     ]
    },
    {
     "name": "stdout",
     "output_type": "stream",
     "text": [
      "💾 Saved progress at row 710 → etf_with_ark_analysis_clean.xlsx\n"
     ]
    },
    {
     "name": "stderr",
     "output_type": "stream",
     "text": [
      "Processing ETFs:  49%|████▉     | 719/1468 [36:33<39:11,  3.14s/etf]"
     ]
    },
    {
     "name": "stdout",
     "output_type": "stream",
     "text": [
      "💾 Saved progress at row 720 → etf_with_ark_analysis_clean.xlsx\n"
     ]
    },
    {
     "name": "stderr",
     "output_type": "stream",
     "text": [
      "Processing ETFs:  50%|████▉     | 729/1468 [37:06<42:52,  3.48s/etf]"
     ]
    },
    {
     "name": "stdout",
     "output_type": "stream",
     "text": [
      "💾 Saved progress at row 730 → etf_with_ark_analysis_clean.xlsx\n"
     ]
    },
    {
     "name": "stderr",
     "output_type": "stream",
     "text": [
      "Processing ETFs:  50%|█████     | 739/1468 [37:38<38:14,  3.15s/etf]"
     ]
    },
    {
     "name": "stdout",
     "output_type": "stream",
     "text": [
      "💾 Saved progress at row 740 → etf_with_ark_analysis_clean.xlsx\n"
     ]
    },
    {
     "name": "stderr",
     "output_type": "stream",
     "text": [
      "Processing ETFs:  51%|█████     | 749/1468 [38:09<35:27,  2.96s/etf]"
     ]
    },
    {
     "name": "stdout",
     "output_type": "stream",
     "text": [
      "💾 Saved progress at row 750 → etf_with_ark_analysis_clean.xlsx\n"
     ]
    },
    {
     "name": "stderr",
     "output_type": "stream",
     "text": [
      "Processing ETFs:  52%|█████▏    | 759/1468 [38:40<34:11,  2.89s/etf]"
     ]
    },
    {
     "name": "stdout",
     "output_type": "stream",
     "text": [
      "💾 Saved progress at row 760 → etf_with_ark_analysis_clean.xlsx\n"
     ]
    },
    {
     "name": "stderr",
     "output_type": "stream",
     "text": [
      "Processing ETFs:  52%|█████▏    | 769/1468 [39:16<38:36,  3.31s/etf]"
     ]
    },
    {
     "name": "stdout",
     "output_type": "stream",
     "text": [
      "💾 Saved progress at row 770 → etf_with_ark_analysis_clean.xlsx\n"
     ]
    },
    {
     "name": "stderr",
     "output_type": "stream",
     "text": [
      "Processing ETFs:  53%|█████▎    | 779/1468 [39:44<32:45,  2.85s/etf]"
     ]
    },
    {
     "name": "stdout",
     "output_type": "stream",
     "text": [
      "💾 Saved progress at row 780 → etf_with_ark_analysis_clean.xlsx\n"
     ]
    },
    {
     "name": "stderr",
     "output_type": "stream",
     "text": [
      "Processing ETFs:  54%|█████▎    | 789/1468 [40:22<38:52,  3.44s/etf]"
     ]
    },
    {
     "name": "stdout",
     "output_type": "stream",
     "text": [
      "💾 Saved progress at row 790 → etf_with_ark_analysis_clean.xlsx\n"
     ]
    },
    {
     "name": "stderr",
     "output_type": "stream",
     "text": [
      "Processing ETFs:  54%|█████▍    | 799/1468 [40:52<32:27,  2.91s/etf]"
     ]
    },
    {
     "name": "stdout",
     "output_type": "stream",
     "text": [
      "💾 Saved progress at row 800 → etf_with_ark_analysis_clean.xlsx\n"
     ]
    },
    {
     "name": "stderr",
     "output_type": "stream",
     "text": [
      "Processing ETFs:  55%|█████▌    | 809/1468 [41:23<32:05,  2.92s/etf]"
     ]
    },
    {
     "name": "stdout",
     "output_type": "stream",
     "text": [
      "💾 Saved progress at row 810 → etf_with_ark_analysis_clean.xlsx\n"
     ]
    },
    {
     "name": "stderr",
     "output_type": "stream",
     "text": [
      "Processing ETFs:  56%|█████▌    | 819/1468 [41:56<35:28,  3.28s/etf]"
     ]
    },
    {
     "name": "stdout",
     "output_type": "stream",
     "text": [
      "💾 Saved progress at row 820 → etf_with_ark_analysis_clean.xlsx\n"
     ]
    },
    {
     "name": "stderr",
     "output_type": "stream",
     "text": [
      "Processing ETFs:  56%|█████▋    | 829/1468 [42:29<35:58,  3.38s/etf]"
     ]
    },
    {
     "name": "stdout",
     "output_type": "stream",
     "text": [
      "💾 Saved progress at row 830 → etf_with_ark_analysis_clean.xlsx\n"
     ]
    },
    {
     "name": "stderr",
     "output_type": "stream",
     "text": [
      "Processing ETFs:  57%|█████▋    | 839/1468 [43:05<39:10,  3.74s/etf]"
     ]
    },
    {
     "name": "stdout",
     "output_type": "stream",
     "text": [
      "💾 Saved progress at row 840 → etf_with_ark_analysis_clean.xlsx\n"
     ]
    },
    {
     "name": "stderr",
     "output_type": "stream",
     "text": [
      "Processing ETFs:  58%|█████▊    | 849/1468 [43:42<35:06,  3.40s/etf]"
     ]
    },
    {
     "name": "stdout",
     "output_type": "stream",
     "text": [
      "💾 Saved progress at row 850 → etf_with_ark_analysis_clean.xlsx\n"
     ]
    },
    {
     "name": "stderr",
     "output_type": "stream",
     "text": [
      "Processing ETFs:  59%|█████▊    | 859/1468 [44:12<28:16,  2.79s/etf]"
     ]
    },
    {
     "name": "stdout",
     "output_type": "stream",
     "text": [
      "💾 Saved progress at row 860 → etf_with_ark_analysis_clean.xlsx\n"
     ]
    },
    {
     "name": "stderr",
     "output_type": "stream",
     "text": [
      "Processing ETFs:  59%|█████▉    | 869/1468 [44:44<31:21,  3.14s/etf]"
     ]
    },
    {
     "name": "stdout",
     "output_type": "stream",
     "text": [
      "💾 Saved progress at row 870 → etf_with_ark_analysis_clean.xlsx\n"
     ]
    },
    {
     "name": "stderr",
     "output_type": "stream",
     "text": [
      "Processing ETFs:  60%|█████▉    | 879/1468 [45:16<31:38,  3.22s/etf]"
     ]
    },
    {
     "name": "stdout",
     "output_type": "stream",
     "text": [
      "💾 Saved progress at row 880 → etf_with_ark_analysis_clean.xlsx\n"
     ]
    },
    {
     "name": "stderr",
     "output_type": "stream",
     "text": [
      "Processing ETFs:  61%|██████    | 889/1468 [45:46<28:55,  3.00s/etf]"
     ]
    },
    {
     "name": "stdout",
     "output_type": "stream",
     "text": [
      "💾 Saved progress at row 890 → etf_with_ark_analysis_clean.xlsx\n"
     ]
    },
    {
     "name": "stderr",
     "output_type": "stream",
     "text": [
      "Processing ETFs:  61%|██████    | 899/1468 [46:16<27:20,  2.88s/etf]"
     ]
    },
    {
     "name": "stdout",
     "output_type": "stream",
     "text": [
      "💾 Saved progress at row 900 → etf_with_ark_analysis_clean.xlsx\n"
     ]
    },
    {
     "name": "stderr",
     "output_type": "stream",
     "text": [
      "Processing ETFs:  62%|██████▏   | 909/1468 [46:47<32:45,  3.52s/etf]"
     ]
    },
    {
     "name": "stdout",
     "output_type": "stream",
     "text": [
      "💾 Saved progress at row 910 → etf_with_ark_analysis_clean.xlsx\n"
     ]
    },
    {
     "name": "stderr",
     "output_type": "stream",
     "text": [
      "Processing ETFs:  63%|██████▎   | 919/1468 [47:20<30:03,  3.28s/etf]"
     ]
    },
    {
     "name": "stdout",
     "output_type": "stream",
     "text": [
      "💾 Saved progress at row 920 → etf_with_ark_analysis_clean.xlsx\n"
     ]
    },
    {
     "name": "stderr",
     "output_type": "stream",
     "text": [
      "Processing ETFs:  63%|██████▎   | 929/1468 [47:51<25:13,  2.81s/etf]"
     ]
    },
    {
     "name": "stdout",
     "output_type": "stream",
     "text": [
      "💾 Saved progress at row 930 → etf_with_ark_analysis_clean.xlsx\n"
     ]
    },
    {
     "name": "stderr",
     "output_type": "stream",
     "text": [
      "Processing ETFs:  64%|██████▍   | 939/1468 [48:22<25:26,  2.89s/etf]"
     ]
    },
    {
     "name": "stdout",
     "output_type": "stream",
     "text": [
      "💾 Saved progress at row 940 → etf_with_ark_analysis_clean.xlsx\n"
     ]
    },
    {
     "name": "stderr",
     "output_type": "stream",
     "text": [
      "Processing ETFs:  65%|██████▍   | 949/1468 [48:56<33:17,  3.85s/etf]"
     ]
    },
    {
     "name": "stdout",
     "output_type": "stream",
     "text": [
      "💾 Saved progress at row 950 → etf_with_ark_analysis_clean.xlsx\n"
     ]
    },
    {
     "name": "stderr",
     "output_type": "stream",
     "text": [
      "Processing ETFs:  65%|██████▌   | 959/1468 [49:24<24:16,  2.86s/etf]"
     ]
    },
    {
     "name": "stdout",
     "output_type": "stream",
     "text": [
      "💾 Saved progress at row 960 → etf_with_ark_analysis_clean.xlsx\n"
     ]
    },
    {
     "name": "stderr",
     "output_type": "stream",
     "text": [
      "Processing ETFs:  66%|██████▌   | 969/1468 [49:56<25:18,  3.04s/etf]"
     ]
    },
    {
     "name": "stdout",
     "output_type": "stream",
     "text": [
      "💾 Saved progress at row 970 → etf_with_ark_analysis_clean.xlsx\n"
     ]
    },
    {
     "name": "stderr",
     "output_type": "stream",
     "text": [
      "Processing ETFs:  67%|██████▋   | 979/1468 [50:33<27:55,  3.43s/etf]"
     ]
    },
    {
     "name": "stdout",
     "output_type": "stream",
     "text": [
      "💾 Saved progress at row 980 → etf_with_ark_analysis_clean.xlsx\n"
     ]
    },
    {
     "name": "stderr",
     "output_type": "stream",
     "text": [
      "Processing ETFs:  67%|██████▋   | 989/1468 [51:06<25:30,  3.19s/etf]"
     ]
    },
    {
     "name": "stdout",
     "output_type": "stream",
     "text": [
      "💾 Saved progress at row 990 → etf_with_ark_analysis_clean.xlsx\n"
     ]
    },
    {
     "name": "stderr",
     "output_type": "stream",
     "text": [
      "Processing ETFs:  68%|██████▊   | 999/1468 [51:41<32:24,  4.15s/etf]"
     ]
    },
    {
     "name": "stdout",
     "output_type": "stream",
     "text": [
      "💾 Saved progress at row 1000 → etf_with_ark_analysis_clean.xlsx\n"
     ]
    },
    {
     "name": "stderr",
     "output_type": "stream",
     "text": [
      "Processing ETFs:  69%|██████▊   | 1009/1468 [52:13<25:09,  3.29s/etf]"
     ]
    },
    {
     "name": "stdout",
     "output_type": "stream",
     "text": [
      "💾 Saved progress at row 1010 → etf_with_ark_analysis_clean.xlsx\n"
     ]
    },
    {
     "name": "stderr",
     "output_type": "stream",
     "text": [
      "Processing ETFs:  69%|██████▉   | 1019/1468 [52:53<24:24,  3.26s/etf]"
     ]
    },
    {
     "name": "stdout",
     "output_type": "stream",
     "text": [
      "💾 Saved progress at row 1020 → etf_with_ark_analysis_clean.xlsx\n"
     ]
    },
    {
     "name": "stderr",
     "output_type": "stream",
     "text": [
      "Processing ETFs:  70%|███████   | 1029/1468 [53:22<21:46,  2.98s/etf]"
     ]
    },
    {
     "name": "stdout",
     "output_type": "stream",
     "text": [
      "💾 Saved progress at row 1030 → etf_with_ark_analysis_clean.xlsx\n"
     ]
    },
    {
     "name": "stderr",
     "output_type": "stream",
     "text": [
      "Processing ETFs:  71%|███████   | 1039/1468 [53:54<26:16,  3.67s/etf]"
     ]
    },
    {
     "name": "stdout",
     "output_type": "stream",
     "text": [
      "💾 Saved progress at row 1040 → etf_with_ark_analysis_clean.xlsx\n"
     ]
    },
    {
     "name": "stderr",
     "output_type": "stream",
     "text": [
      "Processing ETFs:  71%|███████▏  | 1049/1468 [54:25<20:09,  2.89s/etf]"
     ]
    },
    {
     "name": "stdout",
     "output_type": "stream",
     "text": [
      "💾 Saved progress at row 1050 → etf_with_ark_analysis_clean.xlsx\n"
     ]
    },
    {
     "name": "stderr",
     "output_type": "stream",
     "text": [
      "Processing ETFs:  72%|███████▏  | 1059/1468 [54:55<20:23,  2.99s/etf]"
     ]
    },
    {
     "name": "stdout",
     "output_type": "stream",
     "text": [
      "💾 Saved progress at row 1060 → etf_with_ark_analysis_clean.xlsx\n"
     ]
    },
    {
     "name": "stderr",
     "output_type": "stream",
     "text": [
      "Processing ETFs:  73%|███████▎  | 1069/1468 [55:24<20:07,  3.03s/etf]"
     ]
    },
    {
     "name": "stdout",
     "output_type": "stream",
     "text": [
      "💾 Saved progress at row 1070 → etf_with_ark_analysis_clean.xlsx\n"
     ]
    },
    {
     "name": "stderr",
     "output_type": "stream",
     "text": [
      "Processing ETFs:  74%|███████▎  | 1079/1468 [55:52<17:58,  2.77s/etf]"
     ]
    },
    {
     "name": "stdout",
     "output_type": "stream",
     "text": [
      "💾 Saved progress at row 1080 → etf_with_ark_analysis_clean.xlsx\n"
     ]
    },
    {
     "name": "stderr",
     "output_type": "stream",
     "text": [
      "Processing ETFs:  74%|███████▍  | 1089/1468 [56:22<19:39,  3.11s/etf]"
     ]
    },
    {
     "name": "stdout",
     "output_type": "stream",
     "text": [
      "💾 Saved progress at row 1090 → etf_with_ark_analysis_clean.xlsx\n"
     ]
    },
    {
     "name": "stderr",
     "output_type": "stream",
     "text": [
      "Processing ETFs:  75%|███████▍  | 1099/1468 [56:54<20:19,  3.31s/etf]"
     ]
    },
    {
     "name": "stdout",
     "output_type": "stream",
     "text": [
      "💾 Saved progress at row 1100 → etf_with_ark_analysis_clean.xlsx\n"
     ]
    },
    {
     "name": "stderr",
     "output_type": "stream",
     "text": [
      "Processing ETFs:  76%|███████▌  | 1109/1468 [57:25<19:12,  3.21s/etf]"
     ]
    },
    {
     "name": "stdout",
     "output_type": "stream",
     "text": [
      "💾 Saved progress at row 1110 → etf_with_ark_analysis_clean.xlsx\n"
     ]
    },
    {
     "name": "stderr",
     "output_type": "stream",
     "text": [
      "Processing ETFs:  76%|███████▌  | 1119/1468 [58:01<19:22,  3.33s/etf]"
     ]
    },
    {
     "name": "stdout",
     "output_type": "stream",
     "text": [
      "💾 Saved progress at row 1120 → etf_with_ark_analysis_clean.xlsx\n"
     ]
    },
    {
     "name": "stderr",
     "output_type": "stream",
     "text": [
      "Processing ETFs:  77%|███████▋  | 1129/1468 [58:30<16:14,  2.88s/etf]"
     ]
    },
    {
     "name": "stdout",
     "output_type": "stream",
     "text": [
      "💾 Saved progress at row 1130 → etf_with_ark_analysis_clean.xlsx\n"
     ]
    },
    {
     "name": "stderr",
     "output_type": "stream",
     "text": [
      "Processing ETFs:  78%|███████▊  | 1139/1468 [58:59<15:29,  2.83s/etf]"
     ]
    },
    {
     "name": "stdout",
     "output_type": "stream",
     "text": [
      "💾 Saved progress at row 1140 → etf_with_ark_analysis_clean.xlsx\n"
     ]
    },
    {
     "name": "stderr",
     "output_type": "stream",
     "text": [
      "Processing ETFs:  78%|███████▊  | 1149/1468 [59:30<17:09,  3.23s/etf]"
     ]
    },
    {
     "name": "stdout",
     "output_type": "stream",
     "text": [
      "💾 Saved progress at row 1150 → etf_with_ark_analysis_clean.xlsx\n"
     ]
    },
    {
     "name": "stderr",
     "output_type": "stream",
     "text": [
      "Processing ETFs:  79%|███████▉  | 1159/1468 [1:00:03<15:13,  2.96s/etf]"
     ]
    },
    {
     "name": "stdout",
     "output_type": "stream",
     "text": [
      "💾 Saved progress at row 1160 → etf_with_ark_analysis_clean.xlsx\n"
     ]
    },
    {
     "name": "stderr",
     "output_type": "stream",
     "text": [
      "Processing ETFs:  80%|███████▉  | 1169/1468 [1:00:33<15:32,  3.12s/etf]"
     ]
    },
    {
     "name": "stdout",
     "output_type": "stream",
     "text": [
      "💾 Saved progress at row 1170 → etf_with_ark_analysis_clean.xlsx\n"
     ]
    },
    {
     "name": "stderr",
     "output_type": "stream",
     "text": [
      "Processing ETFs:  80%|████████  | 1179/1468 [1:01:11<21:15,  4.41s/etf]"
     ]
    },
    {
     "name": "stdout",
     "output_type": "stream",
     "text": [
      "💾 Saved progress at row 1180 → etf_with_ark_analysis_clean.xlsx\n"
     ]
    },
    {
     "name": "stderr",
     "output_type": "stream",
     "text": [
      "Processing ETFs:  81%|████████  | 1189/1468 [1:01:43<15:20,  3.30s/etf]"
     ]
    },
    {
     "name": "stdout",
     "output_type": "stream",
     "text": [
      "💾 Saved progress at row 1190 → etf_with_ark_analysis_clean.xlsx\n"
     ]
    },
    {
     "name": "stderr",
     "output_type": "stream",
     "text": [
      "Processing ETFs:  82%|████████▏ | 1199/1468 [1:02:15<13:23,  2.99s/etf]"
     ]
    },
    {
     "name": "stdout",
     "output_type": "stream",
     "text": [
      "💾 Saved progress at row 1200 → etf_with_ark_analysis_clean.xlsx\n"
     ]
    },
    {
     "name": "stderr",
     "output_type": "stream",
     "text": [
      "Processing ETFs:  82%|████████▏ | 1209/1468 [1:02:44<12:15,  2.84s/etf]"
     ]
    },
    {
     "name": "stdout",
     "output_type": "stream",
     "text": [
      "💾 Saved progress at row 1210 → etf_with_ark_analysis_clean.xlsx\n"
     ]
    },
    {
     "name": "stderr",
     "output_type": "stream",
     "text": [
      "Processing ETFs:  83%|████████▎ | 1219/1468 [1:03:13<11:44,  2.83s/etf]"
     ]
    },
    {
     "name": "stdout",
     "output_type": "stream",
     "text": [
      "💾 Saved progress at row 1220 → etf_with_ark_analysis_clean.xlsx\n"
     ]
    },
    {
     "name": "stderr",
     "output_type": "stream",
     "text": [
      "Processing ETFs:  84%|████████▎ | 1229/1468 [1:03:51<13:03,  3.28s/etf]"
     ]
    },
    {
     "name": "stdout",
     "output_type": "stream",
     "text": [
      "💾 Saved progress at row 1230 → etf_with_ark_analysis_clean.xlsx\n"
     ]
    },
    {
     "name": "stderr",
     "output_type": "stream",
     "text": [
      "Processing ETFs:  84%|████████▍ | 1239/1468 [1:04:24<12:18,  3.23s/etf]"
     ]
    },
    {
     "name": "stdout",
     "output_type": "stream",
     "text": [
      "💾 Saved progress at row 1240 → etf_with_ark_analysis_clean.xlsx\n"
     ]
    },
    {
     "name": "stderr",
     "output_type": "stream",
     "text": [
      "Processing ETFs:  85%|████████▌ | 1249/1468 [1:04:55<11:44,  3.22s/etf]"
     ]
    },
    {
     "name": "stdout",
     "output_type": "stream",
     "text": [
      "💾 Saved progress at row 1250 → etf_with_ark_analysis_clean.xlsx\n"
     ]
    },
    {
     "name": "stderr",
     "output_type": "stream",
     "text": [
      "Processing ETFs:  86%|████████▌ | 1259/1468 [1:05:27<10:38,  3.06s/etf]"
     ]
    },
    {
     "name": "stdout",
     "output_type": "stream",
     "text": [
      "💾 Saved progress at row 1260 → etf_with_ark_analysis_clean.xlsx\n"
     ]
    },
    {
     "name": "stderr",
     "output_type": "stream",
     "text": [
      "Processing ETFs:  86%|████████▋ | 1269/1468 [1:05:58<09:53,  2.98s/etf]"
     ]
    },
    {
     "name": "stdout",
     "output_type": "stream",
     "text": [
      "💾 Saved progress at row 1270 → etf_with_ark_analysis_clean.xlsx\n"
     ]
    },
    {
     "name": "stderr",
     "output_type": "stream",
     "text": [
      "Processing ETFs:  87%|████████▋ | 1279/1468 [1:06:28<09:12,  2.92s/etf]"
     ]
    },
    {
     "name": "stdout",
     "output_type": "stream",
     "text": [
      "💾 Saved progress at row 1280 → etf_with_ark_analysis_clean.xlsx\n"
     ]
    },
    {
     "name": "stderr",
     "output_type": "stream",
     "text": [
      "Processing ETFs:  88%|████████▊ | 1289/1468 [1:07:01<08:30,  2.85s/etf]"
     ]
    },
    {
     "name": "stdout",
     "output_type": "stream",
     "text": [
      "💾 Saved progress at row 1290 → etf_with_ark_analysis_clean.xlsx\n"
     ]
    },
    {
     "name": "stderr",
     "output_type": "stream",
     "text": [
      "Processing ETFs:  88%|████████▊ | 1299/1468 [1:07:31<08:42,  3.09s/etf]"
     ]
    },
    {
     "name": "stdout",
     "output_type": "stream",
     "text": [
      "💾 Saved progress at row 1300 → etf_with_ark_analysis_clean.xlsx\n"
     ]
    },
    {
     "name": "stderr",
     "output_type": "stream",
     "text": [
      "Processing ETFs:  89%|████████▉ | 1309/1468 [1:08:05<08:43,  3.29s/etf]"
     ]
    },
    {
     "name": "stdout",
     "output_type": "stream",
     "text": [
      "💾 Saved progress at row 1310 → etf_with_ark_analysis_clean.xlsx\n"
     ]
    },
    {
     "name": "stderr",
     "output_type": "stream",
     "text": [
      "Processing ETFs:  90%|████████▉ | 1319/1468 [1:08:44<09:12,  3.71s/etf]"
     ]
    },
    {
     "name": "stdout",
     "output_type": "stream",
     "text": [
      "💾 Saved progress at row 1320 → etf_with_ark_analysis_clean.xlsx\n"
     ]
    },
    {
     "name": "stderr",
     "output_type": "stream",
     "text": [
      "Processing ETFs:  91%|█████████ | 1329/1468 [1:09:18<08:06,  3.50s/etf]"
     ]
    },
    {
     "name": "stdout",
     "output_type": "stream",
     "text": [
      "💾 Saved progress at row 1330 → etf_with_ark_analysis_clean.xlsx\n"
     ]
    },
    {
     "name": "stderr",
     "output_type": "stream",
     "text": [
      "Processing ETFs:  91%|█████████ | 1339/1468 [1:09:55<08:43,  4.06s/etf]"
     ]
    },
    {
     "name": "stdout",
     "output_type": "stream",
     "text": [
      "💾 Saved progress at row 1340 → etf_with_ark_analysis_clean.xlsx\n"
     ]
    },
    {
     "name": "stderr",
     "output_type": "stream",
     "text": [
      "Processing ETFs:  92%|█████████▏| 1349/1468 [1:10:25<05:43,  2.89s/etf]"
     ]
    },
    {
     "name": "stdout",
     "output_type": "stream",
     "text": [
      "💾 Saved progress at row 1350 → etf_with_ark_analysis_clean.xlsx\n"
     ]
    },
    {
     "name": "stderr",
     "output_type": "stream",
     "text": [
      "Processing ETFs:  93%|█████████▎| 1359/1468 [1:10:52<04:40,  2.57s/etf]"
     ]
    },
    {
     "name": "stdout",
     "output_type": "stream",
     "text": [
      "💾 Saved progress at row 1360 → etf_with_ark_analysis_clean.xlsx\n"
     ]
    },
    {
     "name": "stderr",
     "output_type": "stream",
     "text": [
      "Processing ETFs:  93%|█████████▎| 1369/1468 [1:11:31<06:49,  4.14s/etf]"
     ]
    },
    {
     "name": "stdout",
     "output_type": "stream",
     "text": [
      "💾 Saved progress at row 1370 → etf_with_ark_analysis_clean.xlsx\n"
     ]
    },
    {
     "name": "stderr",
     "output_type": "stream",
     "text": [
      "Processing ETFs:  94%|█████████▍| 1379/1468 [1:11:58<03:57,  2.67s/etf]"
     ]
    },
    {
     "name": "stdout",
     "output_type": "stream",
     "text": [
      "💾 Saved progress at row 1380 → etf_with_ark_analysis_clean.xlsx\n"
     ]
    },
    {
     "name": "stderr",
     "output_type": "stream",
     "text": [
      "Processing ETFs:  95%|█████████▍| 1389/1468 [1:12:29<04:00,  3.05s/etf]"
     ]
    },
    {
     "name": "stdout",
     "output_type": "stream",
     "text": [
      "💾 Saved progress at row 1390 → etf_with_ark_analysis_clean.xlsx\n"
     ]
    },
    {
     "name": "stderr",
     "output_type": "stream",
     "text": [
      "Processing ETFs:  95%|█████████▌| 1399/1468 [1:12:58<03:18,  2.88s/etf]"
     ]
    },
    {
     "name": "stdout",
     "output_type": "stream",
     "text": [
      "💾 Saved progress at row 1400 → etf_with_ark_analysis_clean.xlsx\n"
     ]
    },
    {
     "name": "stderr",
     "output_type": "stream",
     "text": [
      "Processing ETFs:  96%|█████████▌| 1409/1468 [1:13:31<03:02,  3.09s/etf]"
     ]
    },
    {
     "name": "stdout",
     "output_type": "stream",
     "text": [
      "💾 Saved progress at row 1410 → etf_with_ark_analysis_clean.xlsx\n"
     ]
    },
    {
     "name": "stderr",
     "output_type": "stream",
     "text": [
      "Processing ETFs:  97%|█████████▋| 1419/1468 [1:14:00<02:11,  2.69s/etf]"
     ]
    },
    {
     "name": "stdout",
     "output_type": "stream",
     "text": [
      "💾 Saved progress at row 1420 → etf_with_ark_analysis_clean.xlsx\n"
     ]
    },
    {
     "name": "stderr",
     "output_type": "stream",
     "text": [
      "Processing ETFs:  97%|█████████▋| 1429/1468 [1:14:25<01:37,  2.50s/etf]"
     ]
    },
    {
     "name": "stdout",
     "output_type": "stream",
     "text": [
      "💾 Saved progress at row 1430 → etf_with_ark_analysis_clean.xlsx\n"
     ]
    },
    {
     "name": "stderr",
     "output_type": "stream",
     "text": [
      "Processing ETFs:  98%|█████████▊| 1439/1468 [1:14:55<01:26,  2.98s/etf]"
     ]
    },
    {
     "name": "stdout",
     "output_type": "stream",
     "text": [
      "💾 Saved progress at row 1440 → etf_with_ark_analysis_clean.xlsx\n"
     ]
    },
    {
     "name": "stderr",
     "output_type": "stream",
     "text": [
      "Processing ETFs:  99%|█████████▊| 1449/1468 [1:15:29<01:04,  3.41s/etf]"
     ]
    },
    {
     "name": "stdout",
     "output_type": "stream",
     "text": [
      "💾 Saved progress at row 1450 → etf_with_ark_analysis_clean.xlsx\n"
     ]
    },
    {
     "name": "stderr",
     "output_type": "stream",
     "text": [
      "Processing ETFs:  99%|█████████▉| 1459/1468 [1:16:00<00:26,  2.92s/etf]"
     ]
    },
    {
     "name": "stdout",
     "output_type": "stream",
     "text": [
      "💾 Saved progress at row 1460 → etf_with_ark_analysis_clean.xlsx\n"
     ]
    },
    {
     "name": "stderr",
     "output_type": "stream",
     "text": [
      "Processing ETFs: 100%|█████████▉| 1467/1468 [1:16:23<00:03,  3.04s/etf]"
     ]
    },
    {
     "name": "stdout",
     "output_type": "stream",
     "text": [
      "💾 Saved progress at row 1468 → etf_with_ark_analysis_clean.xlsx\n"
     ]
    },
    {
     "name": "stderr",
     "output_type": "stream",
     "text": [
      "Processing ETFs: 100%|██████████| 1468/1468 [1:16:26<00:00,  3.12s/etf]\n"
     ]
    }
   ],
   "source": [
    "import pandas as pd\n",
    "import time\n",
    "import re\n",
    "import os\n",
    "from tqdm import tqdm\n",
    "from openai import OpenAI\n",
    "\n",
    "client = OpenAI(api_key=robyn_api_key)\n",
    "\n",
    "# === File location ===\n",
    "input_path = \"2.1 advisor_reports_summary.xlsx\"\n",
    "output_path = \"3.1 etf_with_ark_analysis_clean.xlsx\"\n",
    "\n",
    "# === Loading raw data ===\n",
    "df = pd.read_excel(input_path)\n",
    "\n",
    "# === Loading existing results or start new ===\n",
    "if os.path.exists(output_path):\n",
    "    df_out = pd.read_excel(output_path)\n",
    "    print(\"✅ Loaded existing results, continuing from last save...\")\n",
    "else:\n",
    "    df_out = df.copy()\n",
    "    df_out[\"Investment Strategy\"] = \"\"\n",
    "    df_out[\"Comparable to ARK ETF?\"] = \"\"\n",
    "    df_out[\"Similar to ARK ETF\"] = \"\"\n",
    "    df_out[\"Reason\"] = \"\"\n",
    "    print(\"🆕 Starting fresh analysis...\")\n",
    "\n",
    "# === Set the model ===\n",
    "gpt_model = \"gpt-4o\"\n",
    "batch_size = 10\n",
    "total_rows = df_out.shape[0]\n",
    "\n",
    "# === How many remaining indexes ===\n",
    "remaining_indices = [i for i in range(total_rows) if pd.isna(df_out.loc[i, \"Investment Strategy\"]) or df_out.loc[i, \"Investment Strategy\"] == \"\"]\n",
    "\n",
    "# === Main process ===\n",
    "for idx, i in enumerate(tqdm(remaining_indices, desc=\"Processing ETFs\", unit=\"etf\")):\n",
    "    ticker = df_out.loc[i, \"Ticker\"]\n",
    "    name = df_out.loc[i, \"Name\"]\n",
    "    description = df_out.loc[i, \"Extracted Text\"]\n",
    "\n",
    "    prompt = f\"\"\"You are a professional ETF analyst.\n",
    "\n",
    "        Given the following ETF's ticker, name, and description, your task is as follows:\n",
    "\n",
    "        1. Generate a clear and accurate summary of the ETF’s investment strategy.\n",
    "        - Use the provided description and your own knowledge.\n",
    "        - If the description is vague or lacks sufficient detail, say \"Unknown\" and do not make up content.\n",
    "\n",
    "        2. Then, determine whether this ETF is comparable to any of the following ARK Invest ETFs based on thematic overlap and investment focus:\n",
    "\n",
    "        - ARKK: disruptive innovation across sectors (e.g. AI, robotics, genomics)\n",
    "        - ARKG: genomics, gene editing, molecular biology, precision medicine\n",
    "        - ARKW: next-gen internet, AI, cloud, streaming, blockchain, digital content\n",
    "        - ARKF: fintech, digital payments, blockchain finance, neobanks\n",
    "        - ARKQ: robotics, EVs, drones, 3D printing, autonomous systems\n",
    "        - ARKX: space exploration, satellites, aerospace defense\n",
    "        - ARKB: bitcoin, digital assets, cryptocurrency\n",
    "        - IZRL: Israeli tech and innovation\n",
    "        - PRNT: 3D printing and additive manufacturing\n",
    "\n",
    "        3. In your response, use this structure:\n",
    "\n",
    "        Investment Strategy: <concise summary or 'Unknown'>\n",
    "\n",
    "        Comparable to ARK ETF?: <Yes or No>\n",
    "\n",
    "        If Yes, Similar to: <ARK ETF ticker>\n",
    "\n",
    "        Reason: <1-3 sentence explanation based on thematic or strategic alignment>\n",
    "\n",
    "        ---\n",
    "\n",
    "        Ticker: {ticker}\n",
    "        Name: {name}\n",
    "        Description: {description}\n",
    "        \"\"\"\n",
    "\n",
    "    try:\n",
    "        response = client.chat.completions.create(\n",
    "            model=gpt_model,\n",
    "            messages=[\n",
    "                {\"role\": \"system\", \"content\": \"You are a professional ETF analyst.\"},\n",
    "                {\"role\": \"user\", \"content\": prompt}\n",
    "            ],\n",
    "            temperature=0.4\n",
    "        )\n",
    "\n",
    "        content = response.choices[0].message.content.strip()\n",
    "\n",
    "        strategy = re.search(r\"Investment Strategy:\\s*(.*)\", content, re.IGNORECASE)\n",
    "        comparable = re.search(r\"Comparable to ARK ETF\\?:\\s*(Yes|No)\", content, re.IGNORECASE)\n",
    "        similar = re.search(r\"Similar to:\\s*([A-Z]{4})\", content)\n",
    "        reason = re.search(r\"Reason:\\s*(.*)\", content, re.IGNORECASE)\n",
    "\n",
    "        df_out.loc[i, \"Investment Strategy\"] = strategy.group(1).strip() if strategy else \"Parse Error\"\n",
    "        df_out.loc[i, \"Comparable to ARK ETF?\"] = comparable.group(1).strip() if comparable else \"Parse Error\"\n",
    "        df_out.loc[i, \"Similar to ARK ETF\"] = similar.group(1).strip() if similar else \"\"\n",
    "        df_out.loc[i, \"Reason\"] = reason.group(1).strip() if reason else \"Parse Error\"\n",
    "\n",
    "    except Exception as e:\n",
    "        df_out.loc[i, \"Investment Strategy\"] = \"Error\"\n",
    "        df_out.loc[i, \"Comparable to ARK ETF?\"] = \"Error\"\n",
    "        df_out.loc[i, \"Similar to ARK ETF\"] = \"\"\n",
    "        df_out.loc[i, \"Reason\"] = f\"Error: {str(e)}\"\n",
    "\n",
    "    # Auto save\n",
    "    if idx % batch_size == batch_size - 1 or idx == len(remaining_indices) - 1:\n",
    "        df_out.to_excel(output_path, index=False)\n",
    "        print(f\"💾 Saved progress at row {i + 1} → {output_path}\")\n",
    "\n",
    "    time.sleep(1.2)\n"
   ]
  }
 ],
 "metadata": {
  "kernelspec": {
   "display_name": "finance_venv",
   "language": "python",
   "name": "python3"
  },
  "language_info": {
   "codemirror_mode": {
    "name": "ipython",
    "version": 3
   },
   "file_extension": ".py",
   "mimetype": "text/x-python",
   "name": "python",
   "nbconvert_exporter": "python",
   "pygments_lexer": "ipython3",
   "version": "3.11.5"
  }
 },
 "nbformat": 4,
 "nbformat_minor": 2
}

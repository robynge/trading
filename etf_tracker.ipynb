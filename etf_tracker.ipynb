{
 "cells": [
  {
   "cell_type": "markdown",
   "id": "b780636b",
   "metadata": {},
   "source": [
    "# ETF Classification Tracker for etf.com"
   ]
  },
  {
   "cell_type": "code",
   "execution_count": null,
   "id": "63d623d0",
   "metadata": {},
   "outputs": [],
   "source": [
    "# ⚠️ Disclaimer:\n",
    "# This script scrapes public ETF data from ETF.com.\n",
    "# For academic/research use only. Please respect ETF.com's robots.txt and terms of service."
   ]
  },
  {
   "cell_type": "code",
   "execution_count": 21,
   "id": "27cffb24",
   "metadata": {},
   "outputs": [],
   "source": [
    "from selenium import webdriver\n",
    "from selenium.webdriver.common.by import By\n",
    "from selenium.webdriver.chrome.service import Service\n",
    "from selenium.webdriver.support.ui import WebDriverWait\n",
    "from selenium.webdriver.support import expected_conditions as EC\n",
    "from webdriver_manager.chrome import ChromeDriverManager\n",
    "import pandas as pd\n",
    "\n",
    "\n",
    "def get_etf_methodology_fields(etf_symbol):\n",
    "    url = f\"https://www.etf.com/{etf_symbol.lower()}\"\n",
    "\n",
    "    options = webdriver.ChromeOptions()\n",
    "    # options.add_argument(\"--headless\")\n",
    "    options.add_argument(\"--no-sandbox\")\n",
    "    options.add_argument(\"--disable-dev-shm-usage\")\n",
    "\n",
    "    driver = webdriver.Chrome(service=Service(ChromeDriverManager().install()), options=options)\n",
    "    driver.get(url)\n",
    "\n",
    "    fields = [\n",
    "        \"Index Selection Methodology\",\n",
    "        \"Index Weighting Methodology\",\n",
    "        \"Index Tracked\"\n",
    "    ]\n",
    "\n",
    "    results = {\"Ticker\": etf_symbol}\n",
    "\n",
    "    try:\n",
    "        for field in fields:\n",
    "            try:\n",
    "                # Wait for lable\n",
    "                label = WebDriverWait(driver, 15).until(\n",
    "                    EC.presence_of_element_located((By.XPATH, f\"//div[contains(text(), '{field}')]\"))\n",
    "                )\n",
    "\n",
    "                # make sure find element after loading web\n",
    "                value_div = WebDriverWait(driver, 15).until(\n",
    "                    lambda d: label.find_element(By.XPATH, \"following-sibling::div[1]\") if\n",
    "                    label.find_element(By.XPATH, \"following-sibling::div[1]\").text.strip().lower() != \"loading...\" else False\n",
    "                )\n",
    "\n",
    "                results[field] = value_div.text.strip()\n",
    "            except Exception:\n",
    "                results[field] = \"Not found\"\n",
    "\n",
    "    except Exception as e:\n",
    "        print(f\"Error: {e}\")\n",
    "\n",
    "    driver.quit()\n",
    "    return results\n"
   ]
  },
  {
   "cell_type": "code",
   "execution_count": 22,
   "id": "657160e6",
   "metadata": {},
   "outputs": [
    {
     "name": "stdout",
     "output_type": "stream",
     "text": [
      "  Ticker Index Selection Methodology Index Weighting Methodology  \\\n",
      "0    QQQ             NASDAQ - Listed                  Market Cap   \n",
      "1   ARKK                 Proprietary                 Proprietary   \n",
      "2   JEPI                 Proprietary                 Proprietary   \n",
      "3    SPY                   Committee                  Market Cap   \n",
      "\n",
      "         Index Tracked  \n",
      "0     NASDAQ 100 Index  \n",
      "1  No Underlying Index  \n",
      "2  No Underlying Index  \n",
      "3              S&P 500  \n"
     ]
    }
   ],
   "source": [
    "# Input tickers\n",
    "etf_list = [\"QQQ\", \"ARKK\", \"JEPI\", \"SPY\"]\n",
    "# Run the program\n",
    "all_results = [get_etf_methodology_fields(symbol) for symbol in etf_list]\n",
    "df = pd.DataFrame(all_results)\n",
    "print(df)"
   ]
  },
  {
   "cell_type": "code",
   "execution_count": 23,
   "id": "0eeb6ef1",
   "metadata": {},
   "outputs": [
    {
     "name": "stdout",
     "output_type": "stream",
     "text": [
      "Saved as etf_methodology_results.xlsx\n"
     ]
    }
   ],
   "source": [
    "# Save as Excel file\n",
    "df.to_excel(\"etf_methodology_results.xlsx\", index=False)\n",
    "print(\"Saved as etf_methodology_results.xlsx\")"
   ]
  }
 ],
 "metadata": {
  "kernelspec": {
   "display_name": "base",
   "language": "python",
   "name": "python3"
  },
  "language_info": {
   "codemirror_mode": {
    "name": "ipython",
    "version": 3
   },
   "file_extension": ".py",
   "mimetype": "text/x-python",
   "name": "python",
   "nbconvert_exporter": "python",
   "pygments_lexer": "ipython3",
   "version": "3.11.7"
  }
 },
 "nbformat": 4,
 "nbformat_minor": 5
}

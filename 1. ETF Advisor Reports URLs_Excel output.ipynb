{
 "cells": [
  {
   "cell_type": "code",
   "execution_count": 5,
   "metadata": {},
   "outputs": [],
   "source": [
    "import pandas as pd\n",
    "\n",
    "def get_tickers_from_csv(file_name=\"0. All Avtively Managed US ETFs.csv\"):\n",
    "    \"\"\"\n",
    "    Read the 'Symbol' or 'Ticker' column from a CSV file (with headers in the 2nd row),\n",
    "    and return a list of unique tickers.\n",
    "    \"\"\"\n",
    "    try:\n",
    "        # Skip the first row and use the second row as column headers\n",
    "        df = pd.read_csv(file_name, skiprows=1)\n",
    "\n",
    "        # Clean column names (remove extra spaces and make lowercase)\n",
    "        df.columns = df.columns.str.strip().str.lower()\n",
    "\n",
    "        # Look for the 'symbol' or 'ticker' column\n",
    "        for col in df.columns:\n",
    "            if col in ['symbol', 'ticker']:\n",
    "                tickers = df[col].dropna().astype(str).unique().tolist()\n",
    "                return tickers\n",
    "\n",
    "        raise ValueError(\"No column named 'symbol' or 'ticker' was found\")\n",
    "\n",
    "    except Exception as e:\n",
    "        print(f\"❌ Failed to read file: {e}\")\n",
    "        return []\n"
   ]
  },
  {
   "cell_type": "code",
   "execution_count": 6,
   "metadata": {},
   "outputs": [
    {
     "name": "stdout",
     "output_type": "stream",
     "text": [
      "Found 1620 ETFs：\n",
      "['ARKK', 'JPST', 'DFAC', 'MINT', 'SRLN', 'FPE', 'ARKG', 'PDBC', 'DFAT', 'LMBS']\n"
     ]
    }
   ],
   "source": [
    "tickers = get_tickers_from_csv()\n",
    "print(f\"Found {len(tickers)} ETFs：\")\n",
    "print(tickers[:10]) \n"
   ]
  },
  {
   "cell_type": "code",
   "execution_count": 7,
   "metadata": {},
   "outputs": [],
   "source": [
    "import pandas as pd\n",
    "\n",
    "def export_ticker_urls_to_excel(tickers, batch_size=20, output_file=\"1.1 etf_url_batches.xlsx\"):\n",
    "    \"\"\"\n",
    "    Split a list of ETF tickers into batches of size `batch_size`, generate corresponding ETFdb PDF URLs,\n",
    "    and write them to an Excel file. Each batch is written as a separate column.\n",
    "    \"\"\"\n",
    "    # Build the URL list\n",
    "    urls = [f\"https://etfdb.com/advisor_reports/{ticker.upper()}/\" for ticker in tickers]\n",
    "\n",
    "    # Split into batches\n",
    "    batches = [urls[i:i+batch_size] for i in range(0, len(urls), batch_size)]\n",
    "\n",
    "    # Convert each batch into a column of a DataFrame\n",
    "    df = pd.DataFrame()\n",
    "\n",
    "    for idx, batch in enumerate(batches):\n",
    "        col_name = f\"Batch {idx+1}\"\n",
    "        df[col_name] = pd.Series(batch)\n",
    "\n",
    "    # Export to Excel\n",
    "    df.to_excel(output_file, index=False)\n",
    "    print(f\"✅ Successfully exported to Excel: {output_file}\")\n"
   ]
  },
  {
   "cell_type": "code",
   "execution_count": 8,
   "metadata": {},
   "outputs": [
    {
     "name": "stdout",
     "output_type": "stream",
     "text": [
      "✅ Successfully exported to Excel: 1.1 etf_url_batches.xlsx\n"
     ]
    }
   ],
   "source": [
    "export_ticker_urls_to_excel(tickers)"
   ]
  }
 ],
 "metadata": {
  "kernelspec": {
   "display_name": "finance_venv",
   "language": "python",
   "name": "python3"
  },
  "language_info": {
   "codemirror_mode": {
    "name": "ipython",
    "version": 3
   },
   "file_extension": ".py",
   "mimetype": "text/x-python",
   "name": "python",
   "nbconvert_exporter": "python",
   "pygments_lexer": "ipython3",
   "version": "3.11.5"
  }
 },
 "nbformat": 4,
 "nbformat_minor": 2
}
